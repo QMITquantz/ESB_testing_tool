{
 "cells": [
  {
   "cell_type": "code",
   "execution_count": null,
   "metadata": {},
   "outputs": [],
   "source": [
    "import pandas as pd\n",
    "import numpy as np\n",
    "import math as mt\n",
    "import datetime\n",
    "import sys\n",
    "np.set_printoptions(threshold=sys.maxsize)"
   ]
  },
  {
   "cell_type": "code",
   "execution_count": null,
   "metadata": {},
   "outputs": [],
   "source": [
    "# Importing input files and cleaning them\n",
    "esb_name = input(\"Please choose one ESB from the following list: ars, csu, dv, enmom, groh, rv \\n \")\n",
    "xls = pd.ExcelFile(esb_name + \"_positions_returns_5y.xlsx\")\n",
    "stock_returns = pd.read_csv(\"stock_returns_19y.csv\", header = None)\n",
    "stock_returns = stock_returns.rename({0:'Date', 1:'Tickers',3:'Returns'}, axis = 1)\n",
    "stock_returns['Returns'] = stock_returns['Returns'].fillna(0)\n",
    "spx_returns = pd.read_csv(\"SPX_returns.csv\", header = None)\n",
    "spx_returns = spx_returns.rename({0:'Date', 1:'Returns'}, axis = 1)\n",
    "listlong_full = xls.parse('Stocks List - Long', header = None)\n",
    "listlong_full = listlong_full.rename({0:'Date', 1:'Tickers'}, axis = 1)\n",
    "\n",
    "listshort_full = xls.parse('Stocks List - Short', header = None)\n",
    "listshort_full = listshort_full.rename({0:'Date', 1:'Tickers'}, axis = 1)\n",
    "\n",
    "retlong = xls.parse('Return - Long', header = None)\n",
    "retlong = retlong.rename({0:'Date', 1:'Returns'}, axis = 1)\n",
    "retlong['Returns'] = retlong['Returns'].fillna(0)\n",
    "\n",
    "retshort = xls.parse('Return - Short', header = None)\n",
    "retshort = retshort.rename({0:'Date', 1:'Returns'}, axis = 1)\n",
    "\n",
    "ret = xls.parse('Total Return', header = None)\n",
    "ret = ret.rename({0:'Date', 1:'Returns'}, axis = 1)\n",
    "\n",
    "dates_full = pd.to_datetime(ret['Date'])"
   ]
  },
  {
   "cell_type": "code",
   "execution_count": null,
   "metadata": {},
   "outputs": [],
   "source": [
    "# Filling NA in returns data with 0\n",
    "stock_returns['Returns'] = stock_returns['Returns'].fillna(0)"
   ]
  },
  {
   "cell_type": "code",
   "execution_count": null,
   "metadata": {},
   "outputs": [],
   "source": [
    "# Gather date input from user\n",
    "usr = input(\"Please choose of the following numbers:\\n \\\n",
    "        1. Verify the portfolio return for a single day based on positions in the 5y hist from December 2006 - November 2011.\\n \\\n",
    "        2. Verify the portfolio return for a range of dates based on positions in the 5y hist from December 2006 - November 2011.\\n\")\n",
    "if usr == '1':\n",
    "    date = input('Please enter the date in an dd/mm/yyyy format between December 2006 - November 2011.')\n",
    "    index_long = listlong_full[listlong_full['Date'] == date].index[0]\n",
    "    index_short = listshort_full[listshort_full['Date'] == date].index[0]\n",
    "    listlong = listlong_full['Tickers'][listlong_full['Date'] == date]\n",
    "    listshort = listshort_full['Tickers'][listshort_full['Date'] == date]\n",
    "    if([stock_returns['Date'] == date][0].any()):\n",
    "\n",
    "        stock_returns_day = stock_returns[stock_returns['Date'] == date]\n",
    "        listlong = listlong.str.split(\"'\", expand = True)\n",
    "        listlong.columns.values[0] = 0\n",
    "        listlong = listlong[listlong != ' ']\n",
    "        listlong = listlong[listlong != '[']\n",
    "        listlong = listlong[listlong != ']']\n",
    "        listlong = listlong[listlong != \"\\n \"]                    \n",
    "        listlong = listlong.T.dropna()\n",
    "\n",
    "        listshort = listshort.str.split(\"'\", expand = True)\n",
    "        listshort.columns.values[0] = 0\n",
    "        listshort = listshort[listshort != ' ']\n",
    "        listshort = listshort[listshort != '[']\n",
    "        listshort = listshort[listshort != ']']\n",
    "        listshort = listshort[listshort != \"\\n \"]                    \n",
    "        listshort = listshort.T.dropna()\n",
    "\n",
    "        listlong = listlong[index_long].tolist()\n",
    "        listshort = listshort[index_short].tolist()\n",
    "\n",
    "        #Listing out top 5 and bottom 5 percentile tickers for the Factor Bucket portfolio\n",
    "        print(\"\\n\\nTop and Bottom 5-Percentile Tickers:\\n\\n\")\n",
    "        print(\"Long Tickers:\\n\\n\", listlong,\"\\n\\n\")\n",
    "        print(\"Short Tickers:\\n\\n\", listshort,\"\\n\\n\")\n",
    "\n",
    "        long = stock_returns_day['Returns'][stock_returns_day['Tickers'].isin(listlong)].mean()\n",
    "        short = stock_returns_day['Returns'][stock_returns_day['Tickers'].isin(listshort)].mean()\n",
    "        totret = long - short # Final Returns = Long Return Average - Short Return Average\n",
    "\n",
    "        print(\"Portfolio Stats: \\n\\n\")\n",
    "        print(\"Calculated Portfolio Returns for the requested date:\",round(totret,2))\n",
    "        print(\"QMIT Reported Portfolio returns for the requested date:\",round(ret.loc[ret[ret['Date'] == date].index[0] + 1]['Returns'],2))\n",
    "    else:\n",
    "        print(\"\\n\\nRequested date not in Range. Please try again with another date.\")\n",
    "elif(usr == '2'):\n",
    "    avg = []\n",
    "    reported_ret = []\n",
    "    returns_dates = []\n",
    "    final = pd.DataFrame(columns = ['Date', 'Calculated Returns','QMIT Reported Returns'])\n",
    "    dt = input('Please enter the start date in an dd/mm/yyyy format within December 2006 - November 2011.\\n')\n",
    "    dt1 = input('Please enter the end date in an dd/mm/yyyy format within December 2006 - November 2011.\\n')\n",
    "    date = pd.to_datetime(dt, format=\"%d/%m/%Y\")\n",
    "    date1 = pd.to_datetime(dt1, format=\"%d/%m/%Y\")\n",
    "    stock_returns['Date'] = pd.to_datetime(stock_returns['Date'], format=\"%d/%m/%Y\")\n",
    "    ret['Date'] = pd.to_datetime(ret['Date'], format=\"%d/%m/%Y\")\n",
    "    if(date>date1):\n",
    "        print(\"Invalid Dates: End date is before the Start date. Please re-run the cell.\")\n",
    "    else:\n",
    "        dates = stock_returns['Date'][(stock_returns['Date']>=date) & (stock_returns['Date']<=date1)].unique()\n",
    "        for day in dates:\n",
    "            index_long = listlong_full[listlong_full['Date'] == day].index[0]\n",
    "            index_short = listshort_full[listshort_full['Date'] == day].index[0]\n",
    "            listlong = listlong_full['Tickers'][listlong_full['Date'] == day]\n",
    "            listshort = listshort_full['Tickers'][listshort_full['Date'] == day]\n",
    "            if([stock_returns['Date'] == day][0].any()):\n",
    "                stock_returns_day = stock_returns[stock_returns['Date'] == day]\n",
    "                listlong = listlong.str.split(\"'\", expand = True)\n",
    "                listlong.columns.values[0] = 0\n",
    "                listlong = listlong[listlong != ' ']\n",
    "                listlong = listlong[listlong != '[']\n",
    "                listlong = listlong[listlong != ']']\n",
    "                listlong = listlong[listlong != \"\\n \"]                    \n",
    "                listlong = listlong.T.dropna()\n",
    "\n",
    "                listshort = listshort.str.split(\"'\", expand = True)\n",
    "                listshort.columns.values[0] = 0\n",
    "                listshort = listshort[listshort != ' ']\n",
    "                listshort = listshort[listshort != '[']\n",
    "                listshort = listshort[listshort != ']']\n",
    "                listshort = listshort[listshort != \"\\n \"]                    \n",
    "                listshort = listshort.T.dropna()\n",
    "\n",
    "                listlong = listlong[index_long].tolist()\n",
    "                listshort = listshort[index_short].tolist()\n",
    "\n",
    "                long = stock_returns_day['Returns'][stock_returns_day['Tickers'].isin(listlong)].mean()\n",
    "                short = stock_returns_day['Returns'][stock_returns_day['Tickers'].isin(listshort)].mean()\n",
    "                totret = long - short\n",
    "                avg.append(totret)\n",
    "                reported_ret.append(ret.loc[ret[ret['Date'] == day].index[0] + 1]['Returns'])\n",
    "                returns_dates.append(ret.loc[ret[ret['Date'] == day].index[0] + 1]['Date']) \n",
    "        final.loc[:,'Date'] = pd.to_datetime(returns_dates)\n",
    "        final.loc[:,'Calculated Returns'] = np.round(avg,2)\n",
    "        final.loc[:,'QMIT Reported Returns'] = np.round(reported_ret,2)\n",
    "        print(final.to_string())\n",
    "else:\n",
    "    print('The number chosen is invalid. Please re-run the cell and select either 1 or 2.')  "
   ]
  },
  {
   "cell_type": "markdown",
   "metadata": {},
   "source": [
    "#### Performance Metrics "
   ]
  },
  {
   "cell_type": "code",
   "execution_count": null,
   "metadata": {},
   "outputs": [],
   "source": [
    "# Replicating the Annualized Return for full 19+ yr history \n",
    "ret['Date'] = pd.to_datetime(ret['Date'])\n",
    "number_of_years = (dates_full.iloc[-1]-dates_full.iloc[0]).days/365 \n",
    "ret = ret[ret['Date'].dt.year >= 2000] # returns data are available from January 2000\n",
    "temp = []\n",
    "for i in range(len(ret)):\n",
    "    temp.append((1+ret['Returns'].iloc[i]/100))\n",
    "annualized_ret = (np.prod(temp)**(1/number_of_years)-1)*100\n",
    "print(\"Annualized Return:\", round(annualized_ret,2))"
   ]
  },
  {
   "cell_type": "code",
   "execution_count": null,
   "metadata": {},
   "outputs": [],
   "source": [
    "# Replicating the Annualized Volatility & Downside Deviation\n",
    "vol = pd.DataFrame(columns  = ['Value'])\n",
    "# for i in range (len(returns)):\n",
    "vol.loc['Vol_B', 'Value'] = ret['Returns'].std()\n",
    "vol.loc['Annualized Vol_B','Value'] = vol.loc['Vol_B','Value']*mt.sqrt(12)\n",
    "vol.loc['Downside Dev','Value'] = np.sqrt(np.sum(ret[ret.loc[:,'Returns']<0].loc[:,'Returns'].values**2)/len(ret))\n",
    "vol.loc['Ann Downside Dev','Value'] = vol.loc['Downside Dev','Value']*np.sqrt(12)\n",
    "print(\"Annualized LTD Vol:\", round(vol.loc['Annualized Vol_B','Value'],2))"
   ]
  },
  {
   "cell_type": "code",
   "execution_count": null,
   "metadata": {},
   "outputs": [],
   "source": [
    "#Sharpe\n",
    "sharpe = annualized_ret/vol.loc['Annualized Vol_B','Value']\n",
    "print(\"Sharpe:\", round(sharpe,2))"
   ]
  },
  {
   "cell_type": "code",
   "execution_count": null,
   "metadata": {},
   "outputs": [],
   "source": [
    "#Sortino\n",
    "sortino = annualized_ret/vol.loc['Ann Downside Dev','Value']\n",
    "print(\"Sortino:\", round(sortino,2))"
   ]
  },
  {
   "cell_type": "code",
   "execution_count": null,
   "metadata": {},
   "outputs": [],
   "source": [
    "#Beta to S&P500\n",
    "betasp = np.cov(ret['Returns'], spx_returns['Returns'].drop(index=0))[0][1]/np.cov(ret['Returns'], spx_returns['Returns'].drop(index=0))[1][1]\n",
    "print(\"Beta to S&P500:\", round(betasp,2))"
   ]
  },
  {
   "cell_type": "code",
   "execution_count": null,
   "metadata": {},
   "outputs": [],
   "source": []
  }
 ],
 "metadata": {
  "kernelspec": {
   "display_name": "Python 3",
   "language": "python",
   "name": "python3"
  },
  "language_info": {
   "codemirror_mode": {
    "name": "ipython",
    "version": 3
   },
   "file_extension": ".py",
   "mimetype": "text/x-python",
   "name": "python",
   "nbconvert_exporter": "python",
   "pygments_lexer": "ipython3",
   "version": "3.7.1"
  }
 },
 "nbformat": 4,
 "nbformat_minor": 2
}
